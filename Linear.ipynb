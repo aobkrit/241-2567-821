{
  "nbformat": 4,
  "nbformat_minor": 0,
  "metadata": {
    "colab": {
      "provenance": []
    },
    "kernelspec": {
      "name": "python3",
      "display_name": "Python 3"
    },
    "language_info": {
      "name": "python"
    }
  },
  "cells": [
    {
      "cell_type": "code",
      "execution_count": 1,
      "metadata": {
        "id": "d4gbTyDHV1zy"
      },
      "outputs": [],
      "source": [
        "import pandas as pd\n",
        "import numpy as np\n",
        "import warnings\n",
        "warnings.filterwarnings(\"ignore\")"
      ]
    },
    {
      "cell_type": "code",
      "source": [
        "df = pd.read_csv(\"study.csv\")\n",
        "df.head()"
      ],
      "metadata": {
        "id": "BNF8eBEjV9MS"
      },
      "execution_count": null,
      "outputs": []
    },
    {
      "cell_type": "code",
      "source": [
        "df.columns"
      ],
      "metadata": {
        "id": "ygYhcvQRV-zm"
      },
      "execution_count": null,
      "outputs": []
    },
    {
      "cell_type": "code",
      "source": [
        "input_columns=['Hours']\n",
        "output_column=['Scores']"
      ],
      "metadata": {
        "id": "7hxtz2o9V_O7"
      },
      "execution_count": null,
      "outputs": []
    },
    {
      "cell_type": "code",
      "source": [
        "x=df.loc[:,input_columns]\n",
        "y=df.loc[:,output_column]"
      ],
      "metadata": {
        "id": "JqRYy5k_V_TA"
      },
      "execution_count": null,
      "outputs": []
    },
    {
      "cell_type": "code",
      "source": [
        "from sklearn.model_selection import train_test_split\n",
        "X_train, X_test, y_train, y_test = train_test_split(x, y, test_size=.20,random_state=1,)"
      ],
      "metadata": {
        "id": "_xAKpc6OV_VT"
      },
      "execution_count": null,
      "outputs": []
    },
    {
      "cell_type": "code",
      "source": [
        "from sklearn.linear_model import LinearRegression\n",
        "model1 = LinearRegression()\n",
        "model1.fit(X_train, y_train)"
      ],
      "metadata": {
        "id": "joo-Q9dSV_X6"
      },
      "execution_count": null,
      "outputs": []
    },
    {
      "cell_type": "code",
      "source": [
        "# แสดงค่า m และ b\n",
        "print(model1.intercept_)#b จุดตัดแกน y\n",
        "print(model1.coef_)#m ความชัน"
      ],
      "metadata": {
        "id": "R35ms83yV_aU"
      },
      "execution_count": null,
      "outputs": []
    },
    {
      "cell_type": "code",
      "source": [
        "#ทำนายบนชุดทดสอบ\n",
        "y_p = model1.predict(X_test)\n",
        "#วัดผล MSE\n",
        "from sklearn import metrics\n",
        "print(np.sqrt(metrics.mean_squared_error(y_test,y_p)))"
      ],
      "metadata": {
        "id": "Jltwd_qVV_cU"
      },
      "execution_count": null,
      "outputs": []
    },
    {
      "cell_type": "code",
      "source": [
        "X_quiz = [[30,35,1],[19,25,0],[41,23,2]]\n",
        "y_quiz = model1.predict(X_quiz)\n",
        "print(y_quiz)"
      ],
      "metadata": {
        "id": "lhJgzvYEV_el"
      },
      "execution_count": null,
      "outputs": []
    },
    {
      "cell_type": "code",
      "source": [
        "df = pd.read_csv(\"insurance.csv\")\n",
        "df.head()"
      ],
      "metadata": {
        "id": "BQhATpDhWMsr"
      },
      "execution_count": null,
      "outputs": []
    },
    {
      "cell_type": "code",
      "source": [
        "#ตรวจสอบว่ามี column อะไรบ้าง\n",
        "df.columns"
      ],
      "metadata": {
        "id": "YZb9xJb6WMu6"
      },
      "execution_count": null,
      "outputs": []
    },
    {
      "cell_type": "code",
      "source": [
        "#กำจัดค่าว่าง\n",
        "df.dropna(inplace = True)"
      ],
      "metadata": {
        "id": "ywzRsE3RWMxK"
      },
      "execution_count": null,
      "outputs": []
    },
    {
      "cell_type": "code",
      "source": [
        "input_columns=['age','bmi','children']\n",
        "output_column=['charges']"
      ],
      "metadata": {
        "id": "128YO_qAWMzJ"
      },
      "execution_count": null,
      "outputs": []
    },
    {
      "cell_type": "code",
      "source": [
        "x=df.loc[:,input_columns]\n",
        "y=df.loc[:,output_column]"
      ],
      "metadata": {
        "id": "Ph3YqaGaWTHh"
      },
      "execution_count": null,
      "outputs": []
    },
    {
      "cell_type": "code",
      "source": [
        "from sklearn.model_selection import train_test_split\n",
        "X_train, X_test, y_train, y_test = train_test_split(x, y, test_size=.20,random_state=1,)"
      ],
      "metadata": {
        "id": "am7Km80tWTJy"
      },
      "execution_count": null,
      "outputs": []
    },
    {
      "cell_type": "code",
      "source": [
        "from sklearn.linear_model import LinearRegression\n",
        "model1 = LinearRegression()\n",
        "model1.fit(X_train, y_train)"
      ],
      "metadata": {
        "id": "8XS-My4ZWTMD"
      },
      "execution_count": null,
      "outputs": []
    },
    {
      "cell_type": "code",
      "source": [
        "# แสดงค่า m และ b\n",
        "print(model1.intercept_)#b จุดตัดแกน y\n",
        "print(model1.coef_)#m ความชัน"
      ],
      "metadata": {
        "id": "aWNA8SWaWZAn"
      },
      "execution_count": null,
      "outputs": []
    },
    {
      "cell_type": "code",
      "source": [
        "y_p = model1.predict(X_test)\n",
        "from sklearn import metrics\n",
        "print(np.sqrt(metrics.mean_squared_error(y_test,y_p)))"
      ],
      "metadata": {
        "id": "LThC1kIdWbsT"
      },
      "execution_count": null,
      "outputs": []
    },
    {
      "cell_type": "code",
      "source": [
        "X_quiz = [[30,35,1],[19,25,0],[41,23,2]]\n",
        "y_quiz = model1.predict(X_quiz)\n",
        "print(y_quiz)"
      ],
      "metadata": {
        "id": "QDN9yEXgWdF1"
      },
      "execution_count": null,
      "outputs": []
    }
  ]
}